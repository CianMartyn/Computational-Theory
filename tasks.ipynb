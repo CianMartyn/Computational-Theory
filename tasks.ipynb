{
 "cells": [
  {
   "cell_type": "markdown",
   "metadata": {},
   "source": [
    "# Task 1: Binary Representations\n",
    "\n",
    "This section implements fundamental bitwise operations used in cryptographic functions.\n",
    "We define:\n",
    "- **rotl(x, n)**: Left-rotates a 32-bit integer `x` by `n` places.\n",
    "- **rotr(x, n)**: Right-rotates a 32-bit integer `x` by `n` places.\n",
    "- **ch(x, y, z)**: Chooses bits based on `x` (from `y` if `x` has 1s, from `z` otherwise).\n",
    "- **maj(x, y, z)**: Computes the majority vote of the bits from `x, y, z`."
   ]
  },
  {
   "cell_type": "code",
   "execution_count": 32,
   "metadata": {},
   "outputs": [],
   "source": [
    "def rotl(x, n=1):\n",
    "    \"\"\"\n",
    "    Rotates the bits in a 32-bit unsigned integer to the left by n places.\n",
    "    \n",
    "    Args:\n",
    "    - x (int): A 32-bit integer.\n",
    "    - n (int): Number of positions to rotate.\n",
    "    \n",
    "    Returns:\n",
    "    - int: The rotated integer.\n",
    "    \"\"\"\n",
    "    n = n % 32  # Ensure n is within 0-31\n",
    "    return ((x << n) | (x >> (32 - n))) & 0xFFFFFFFF  # Mask to 32 bits\n",
    "\n",
    "def rotr(x, n=1):\n",
    "    \"\"\"\n",
    "    Rotates the bits in a 32-bit unsigned integer to the right by n places.\n",
    "    \"\"\"\n",
    "    n = n % 32\n",
    "    return ((x >> n) | (x << (32 - n))) & 0xFFFFFFFF\n",
    "\n",
    "def ch(x, y, z):\n",
    "    \"\"\"\n",
    "    Chooses bits from y where x has bits set to 1 and from z where x has bits set to 0.\n",
    "    \"\"\"\n",
    "    return (x & y) ^ (~x & z)\n",
    "\n",
    "def maj(x, y, z):\n",
    "    \"\"\"\n",
    "    Takes a majority vote of the bits in x, y, and z.\n",
    "    \"\"\"\n",
    "    return (x & y) ^ (x & z) ^ (y & z)\n"
   ]
  },
  {
   "cell_type": "markdown",
   "metadata": {},
   "source": [
    "Testing the Bitwise Functions:\n",
    "We use three test values:\n",
    "- **x = 0xB3333333**\n",
    "- **y = 0xCCCCCCCC**\n",
    "- **z = 0xF0F0F0F0**\n",
    "\n",
    "We will rotate `x`, apply `ch(x, y, z)`, and compute `maj(x, y, z)`.\n"
   ]
  },
  {
   "cell_type": "code",
   "execution_count": 33,
   "metadata": {},
   "outputs": [
    {
     "name": "stdout",
     "output_type": "stream",
     "text": [
      "rotl(10110011001100110011001100110011, 4)  -> 00110011001100110011001100111011\n",
      "rotr(10110011001100110011001100110011, 4)  -> 00111011001100110011001100110011\n",
      "ch(10110011001100110011001100110011, 11001100110011001100110011001100, 11110000111100001111000011110000) -> 11000000110000001100000011000000\n",
      "maj(10110011001100110011001100110011, 11001100110011001100110011001100, 11110000111100001111000011110000) -> 11110000111100001111000011110000\n"
     ]
    }
   ],
   "source": [
    "# Test values\n",
    "test_x = 0b10110011001100110011001100110011  # 0xB3333333\n",
    "test_y = 0b11001100110011001100110011001100  # 0xCCCCCCCC\n",
    "test_z = 0b11110000111100001111000011110000  # 0xF0F0F0F0\n",
    "\n",
    "# Print the results\n",
    "print(f\"rotl({test_x:032b}, 4)  -> {rotl(test_x, 4):032b}\")\n",
    "print(f\"rotr({test_x:032b}, 4)  -> {rotr(test_x, 4):032b}\")\n",
    "print(f\"ch({test_x:032b}, {test_y:032b}, {test_z:032b}) -> {ch(test_x, test_y, test_z):032b}\")\n",
    "print(f\"maj({test_x:032b}, {test_y:032b}, {test_z:032b}) -> {maj(test_x, test_y, test_z):032b}\")\n"
   ]
  },
  {
   "cell_type": "markdown",
   "metadata": {},
   "source": [
    "# Task 2: Hash Functions\n",
    "\n",
    "This function computes a simple hash value for a string using the following logic:\n",
    "1. Initialize `hashval = 0`.\n",
    "2. Iterate over each character in the string.\n",
    "3. Compute `hashval = ord(char) + 31 * hashval`.\n",
    "4. Take the final value modulo 101.\n",
    "\n",
    "This method ensures good hash distribution and minimizes collisions.\n"
   ]
  },
  {
   "cell_type": "code",
   "execution_count": 34,
   "metadata": {},
   "outputs": [],
   "source": [
    "def hash_function(s: str) -> int:\n",
    "    \"\"\"\n",
    "    Computes a simple hash value for a string using a rolling hash approach.\n",
    "    \n",
    "    Args:\n",
    "    - s (str): The input string.\n",
    "    \n",
    "    Returns:\n",
    "    - int: The hash value modulo 101.\n",
    "    \"\"\"\n",
    "    hashval = 0\n",
    "    for char in s:\n",
    "        hashval = ord(char) + 31 * hashval  # Hash function using 31\n",
    "    return hashval % 101  # Modulo 101 to limit hash size\n"
   ]
  },
  {
   "cell_type": "markdown",
   "metadata": {},
   "source": [
    "Testing the Hash Function:\n",
    "We test the function with different strings to observe the hash values.\n"
   ]
  },
  {
   "cell_type": "code",
   "execution_count": 35,
   "metadata": {},
   "outputs": [
    {
     "name": "stdout",
     "output_type": "stream",
     "text": [
      "Hash of 'hello': 17\n",
      "Hash of 'world': 34\n",
      "Hash of 'hashing': 25\n",
      "Hash of 'kernighan': 37\n",
      "Hash of 'ritchie': 26\n"
     ]
    }
   ],
   "source": [
    "# Test cases\n",
    "test_strings = [\"hello\", \"world\", \"hashing\", \"kernighan\", \"ritchie\"]\n",
    "\n",
    "# Compute hashes\n",
    "for s in test_strings:\n",
    "    print(f\"Hash of '{s}': {hash_function(s)}\")\n"
   ]
  },
  {
   "cell_type": "markdown",
   "metadata": {},
   "source": [
    "The values 31 and 101 may be used in this hash function due to:\n",
    "\n",
    "31 is a prime number, which helps in generating a more uniform distribution of [hash values](https://www.geeksforgeeks.org/why-does-javas-hashcode-in-string-use-31-as-a-multiplier/).\n",
    "\n",
    "It's close to a power of 2 (32), which makes multiplication computationally efficient (can be implemented as a bitshift and subtraction: 31*n = (n<<5) - n).\n",
    "\n",
    "When multiplying by 31, the previous hash value is weighted more heavily than the new character, giving a good balance between positional sensitivity and character values.\n",
    "\n",
    "31 produces fewer collisions than other small numbers in typical text processing scenarios.\n",
    "\n",
    "\n",
    "\n",
    "\n",
    "101 is also a prime number, which is ideal for the [modulo operation](https://www.designgurus.io/answers/detail/why-should-hash-functions-use-a-prime-number-modulus) in a hash table.\n",
    "\n",
    "Using a prime modulus helps distribute hash values more evenly across the hash table.\n",
    "\n",
    "101 is a reasonable size for a small hash table (determines the number of buckets).\n",
    "\n",
    "Prime moduli minimize the chance of systematic patterns in the data causing clustering"
   ]
  },
  {
   "cell_type": "markdown",
   "metadata": {},
   "source": [
    "# Task 3: SHA256 Padding\n",
    "\n",
    "SHA256 requires messages to be padded to a multiple of 512 bits. \n",
    "This function:\n",
    "1. Reads a file's contents.\n",
    "2. Appends a `1` bit (`0x80` in hex).\n",
    "3. Adds `0` bits until the total length is `56 mod 64`.\n",
    "4. Appends the original message length as a big-endian 64-bit integer.\n",
    "\n",
    "This padding ensures compatibility with SHA256 hashing.\n"
   ]
  },
  {
   "cell_type": "code",
   "execution_count": 36,
   "metadata": {},
   "outputs": [],
   "source": [
    "import struct\n",
    "import os\n",
    "\n",
    "def calculate_sha256_padding(file_path):\n",
    "    \"\"\"\n",
    "    Computes the SHA256 padding for a given file.\n",
    "    \n",
    "    Args:\n",
    "    - file_path (str): The path to the input file.\n",
    "    \n",
    "    Prints:\n",
    "    - The padding bytes in hexadecimal.\n",
    "    \"\"\"\n",
    "    if not os.path.exists(file_path):\n",
    "        print(f\"Error: File {file_path} does not exist.\")\n",
    "        return\n",
    "    \n",
    "    with open(file_path, 'rb') as f:\n",
    "        data = f.read()\n",
    "\n",
    "    print(f\"Read {len(data)} bytes from {file_path}\")\n",
    "\n",
    "    original_length = len(data)\n",
    "    original_bit_length = original_length * 8  # Convert bytes to bits\n",
    "\n",
    "    # Append '1' bit (0x80 in hex)\n",
    "    padding = b'\\x80'\n",
    "\n",
    "    # Compute required zero padding\n",
    "    total_length = original_length + 1\n",
    "    while (total_length + 8) % 64 != 0:\n",
    "        padding += b'\\x00'\n",
    "        total_length += 1\n",
    "\n",
    "    # Append original length in bits as a big-endian 64-bit integer\n",
    "    padding += struct.pack('>Q', original_bit_length)\n",
    "\n",
    "    print(f\"Padding length: {len(padding)} bytes\")\n",
    "    print(\"Padding (Hex):\", \" \".join(f\"{byte:02x}\" for byte in padding))\n"
   ]
  },
  {
   "cell_type": "markdown",
   "metadata": {},
   "source": [
    "Testing the SHA256 Padding Function:\n",
    "We apply the padding function to 'test.txt`, which contains a short message.\n"
   ]
  },
  {
   "cell_type": "code",
   "execution_count": 37,
   "metadata": {},
   "outputs": [
    {
     "name": "stdout",
     "output_type": "stream",
     "text": [
      "Read 3 bytes from test.txt\n",
      "Padding length: 61 bytes\n",
      "Padding (Hex): 80 00 00 00 00 00 00 00 00 00 00 00 00 00 00 00 00 00 00 00 00 00 00 00 00 00 00 00 00 00 00 00 00 00 00 00 00 00 00 00 00 00 00 00 00 00 00 00 00 00 00 00 00 00 00 00 00 00 00 00 18\n"
     ]
    }
   ],
   "source": [
    "# Run the padding function\n",
    "calculate_sha256_padding(\"test.txt\")"
   ]
  },
  {
   "cell_type": "code",
   "execution_count": null,
   "metadata": {},
   "outputs": [],
   "source": []
  }
 ],
 "metadata": {
  "kernelspec": {
   "display_name": "Python 3",
   "language": "python",
   "name": "python3"
  },
  "language_info": {
   "codemirror_mode": {
    "name": "ipython",
    "version": 3
   },
   "file_extension": ".py",
   "mimetype": "text/x-python",
   "name": "python",
   "nbconvert_exporter": "python",
   "pygments_lexer": "ipython3",
   "version": "3.12.1"
  }
 },
 "nbformat": 4,
 "nbformat_minor": 2
}
