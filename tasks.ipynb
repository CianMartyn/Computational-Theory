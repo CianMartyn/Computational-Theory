{
 "cells": [
  {
   "cell_type": "code",
   "execution_count": 2,
   "metadata": {},
   "outputs": [
    {
     "name": "stdout",
     "output_type": "stream",
     "text": [
      "rotl(10110011001100110011001100110011, 4)  -> 00110011001100110011001100111011\n",
      "rotr(10110011001100110011001100110011, 4)  -> 00111011001100110011001100110011\n",
      "ch(10110011001100110011001100110011, 11001100110011001100110011001100, 11110000111100001111000011110000) -> 11000000110000001100000011000000\n",
      "maj(10110011001100110011001100110011, 11001100110011001100110011001100, 11110000111100001111000011110000) -> 11110000111100001111000011110000\n"
     ]
    }
   ],
   "source": [
    "def rotl(x, n=1):\n",
    "    \"\"\"Rotates the bits in a 32-bit unsigned integer to the left by n places.\"\"\"\n",
    "    n = n % 32  # Ensure n is within 0-31\n",
    "    return ((x << n) | (x >> (32 - n))) & 0xFFFFFFFF  # Mask to 32 bits\n",
    "\n",
    "def rotr(x, n=1):\n",
    "    \"\"\"Rotates the bits in a 32-bit unsigned integer to the right by n places.\"\"\"\n",
    "    n = n % 32  # Ensure n is within 0-31\n",
    "    return ((x >> n) | (x << (32 - n))) & 0xFFFFFFFF  # Mask to 32 bits\n",
    "\n",
    "def ch(x, y, z):\n",
    "    \"\"\"Chooses bits from y where x has bits set to 1 and from z where x has bits set to 0.\"\"\"\n",
    "    return (x & y) ^ (~x & z)\n",
    "\n",
    "def maj(x, y, z):\n",
    "    \"\"\"Takes a majority vote of the bits in x, y, and z.\"\"\"\n",
    "    return (x & y) ^ (x & z) ^ (y & z)\n",
    "\n",
    "# Testing the functions\n",
    "if __name__ == \"__main__\":\n",
    "    test_x = 0b10110011001100110011001100110011  # 0xB3333333\n",
    "    test_y = 0b11001100110011001100110011001100  # 0xCCCCCCCC\n",
    "    test_z = 0b11110000111100001111000011110000  # 0xF0F0F0F0\n",
    "    \n",
    "    print(f\"rotl({test_x:032b}, 4)  -> {rotl(test_x, 4):032b}\")\n",
    "    print(f\"rotr({test_x:032b}, 4)  -> {rotr(test_x, 4):032b}\")\n",
    "    print(f\"ch({test_x:032b}, {test_y:032b}, {test_z:032b}) -> {ch(test_x, test_y, test_z):032b}\")\n",
    "    print(f\"maj({test_x:032b}, {test_y:032b}, {test_z:032b}) -> {maj(test_x, test_y, test_z):032b}\")\n"
   ]
  }
 ],
 "metadata": {
  "kernelspec": {
   "display_name": "Python 3",
   "language": "python",
   "name": "python3"
  },
  "language_info": {
   "codemirror_mode": {
    "name": "ipython",
    "version": 3
   },
   "file_extension": ".py",
   "mimetype": "text/x-python",
   "name": "python",
   "nbconvert_exporter": "python",
   "pygments_lexer": "ipython3",
   "version": "3.12.1"
  }
 },
 "nbformat": 4,
 "nbformat_minor": 2
}
