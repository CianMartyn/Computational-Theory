{
 "cells": [
  {
   "cell_type": "markdown",
   "metadata": {},
   "source": [
    "# Task 1: Binary Representations\n",
    "\n",
    "This section implements fundamental bitwise operations used in cryptographic functions, , following the specifications from [FIPS 180-4: Secure Hash Standard](https://nvlpubs.nist.gov/nistpubs/FIPS/NIST.FIPS.180-4.pdf)\n",
    "- **rotl(x, n)**: Left-rotates a 32-bit integer `x` by `n` places.\n",
    "- **rotr(x, n)**: Right-rotates a 32-bit integer `x` by `n` places.\n",
    "- **ch(x, y, z)**: Chooses bits based on `x` (from `y` if `x` has 1s, from `z` otherwise).\n",
    "- **maj(x, y, z)**: Computes the majority vote of the bits from `x, y, z`."
   ]
  },
  {
   "cell_type": "code",
   "execution_count": 21,
   "metadata": {},
   "outputs": [],
   "source": [
    "def rotl(x, n=1):\n",
    "    \"\"\"\n",
    "    Rotates the bits in a 32-bit unsigned integer to the left by n places.\n",
    "    \n",
    "    Args:\n",
    "    - x (int): A 32-bit integer.\n",
    "    - n (int): Number of positions to rotate.\n",
    "    \n",
    "    Returns:\n",
    "    - int: The rotated integer.\n",
    "    \"\"\"\n",
    "    n = n % 32  # Ensure n is within 0-31\n",
    "    return ((x << n) | (x >> (32 - n))) & 0xFFFFFFFF  # Mask to 32 bits\n",
    "\n",
    "def rotr(x, n=1):\n",
    "    \"\"\"\n",
    "    Rotates the bits in a 32-bit unsigned integer to the right by n places.\n",
    "    \"\"\"\n",
    "    n = n % 32\n",
    "    return ((x >> n) | (x << (32 - n))) & 0xFFFFFFFF\n",
    "\n",
    "def ch(x, y, z):\n",
    "    \"\"\"\n",
    "    Chooses bits from y where x has bits set to 1 and from z where x has bits set to 0.\n",
    "    \"\"\"\n",
    "    return (x & y) ^ (~x & z)\n",
    "\n",
    "def maj(x, y, z):\n",
    "    \"\"\"\n",
    "    Takes a majority vote of the bits in x, y, and z.\n",
    "    \"\"\"\n",
    "    return (x & y) ^ (x & z) ^ (y & z)\n"
   ]
  },
  {
   "cell_type": "markdown",
   "metadata": {},
   "source": [
    "Testing the Bitwise Functions:\n",
    "Three test values are used:\n",
    "- **x = 0xB3333333**\n",
    "- **y = 0xCCCCCCCC**\n",
    "- **z = 0xF0F0F0F0**\n",
    "\n",
    "Rotate `x`, apply `ch(x, y, z)`, and compute `maj(x, y, z)`.\n"
   ]
  },
  {
   "cell_type": "code",
   "execution_count": 22,
   "metadata": {},
   "outputs": [
    {
     "name": "stdout",
     "output_type": "stream",
     "text": [
      "rotl(10110011001100110011001100110011, 4)  -> 00110011001100110011001100111011\n",
      "rotr(10110011001100110011001100110011, 4)  -> 00111011001100110011001100110011\n",
      "ch(10110011001100110011001100110011, 11001100110011001100110011001100, 11110000111100001111000011110000) -> 11000000110000001100000011000000\n",
      "maj(10110011001100110011001100110011, 11001100110011001100110011001100, 11110000111100001111000011110000) -> 11110000111100001111000011110000\n"
     ]
    }
   ],
   "source": [
    "# Test values\n",
    "test_x = 0b10110011001100110011001100110011  # 0xB3333333\n",
    "test_y = 0b11001100110011001100110011001100  # 0xCCCCCCCC\n",
    "test_z = 0b11110000111100001111000011110000  # 0xF0F0F0F0\n",
    "\n",
    "# Print the results\n",
    "print(f\"rotl({test_x:032b}, 4)  -> {rotl(test_x, 4):032b}\")\n",
    "print(f\"rotr({test_x:032b}, 4)  -> {rotr(test_x, 4):032b}\")\n",
    "print(f\"ch({test_x:032b}, {test_y:032b}, {test_z:032b}) -> {ch(test_x, test_y, test_z):032b}\")\n",
    "print(f\"maj({test_x:032b}, {test_y:032b}, {test_z:032b}) -> {maj(test_x, test_y, test_z):032b}\")\n"
   ]
  },
  {
   "cell_type": "markdown",
   "metadata": {},
   "source": [
    "# Task 2: Hash Functions\n",
    "\n",
    "This function computes a simple hash value for a string using the following logic:\n",
    "1. Initialize `hashval = 0`.\n",
    "2. Iterate over each character in the string.\n",
    "3. Compute `hashval = ord(char) + 31 * hashval`.\n",
    "4. Take the final value modulo 101.\n",
    "\n",
    "This method ensures good hash distribution and minimizes collisions.\n"
   ]
  },
  {
   "cell_type": "code",
   "execution_count": 23,
   "metadata": {},
   "outputs": [],
   "source": [
    "def hash_function(s: str) -> int:\n",
    "    \"\"\"\n",
    "    Computes a simple hash value for a string using a rolling hash approach.\n",
    "    \n",
    "    Args:\n",
    "    - s (str): The input string.\n",
    "    \n",
    "    Returns:\n",
    "    - int: The hash value modulo 101.\n",
    "    \"\"\"\n",
    "    hashval = 0\n",
    "    for char in s:\n",
    "        hashval = ord(char) + 31 * hashval  # Hash function using 31\n",
    "    return hashval % 101  # Modulo 101 to limit hash size\n"
   ]
  },
  {
   "cell_type": "markdown",
   "metadata": {},
   "source": [
    "Testing the Hash Function:\n",
    "The function is tested with different strings to observe the hash values.\n"
   ]
  },
  {
   "cell_type": "code",
   "execution_count": 24,
   "metadata": {},
   "outputs": [
    {
     "name": "stdout",
     "output_type": "stream",
     "text": [
      "Hash of 'hello': 17\n",
      "Hash of 'world': 34\n",
      "Hash of 'hashing': 25\n",
      "Hash of 'kernighan': 37\n",
      "Hash of 'ritchie': 26\n"
     ]
    }
   ],
   "source": [
    "# Test cases\n",
    "test_strings = [\"hello\", \"world\", \"hashing\", \"kernighan\", \"ritchie\"]\n",
    "\n",
    "# Compute hashes\n",
    "for s in test_strings:\n",
    "    print(f\"Hash of '{s}': {hash_function(s)}\")\n"
   ]
  },
  {
   "cell_type": "markdown",
   "metadata": {},
   "source": [
    "Use of 31 in Hash Functions:\n",
    "\n",
    "The number 31 is commonly used in [hash values](https://www.geeksforgeeks.org/why-does-javas-hashcode-in-string-use-31-as-a-multiplier/)., such as Java's String.hashCode(), because it's a prime number, which helps in achieving a uniform distribution of hash values and reduces collisions.\n",
    "\n",
    "\n",
    "Use of 101 as Modulus in Hash Functions:\n",
    "\n",
    "Using a prime number like 101 as the [modulus in hash functions](https://www.designgurus.io/answers/detail/why-should-hash-functions-use-a-prime-number-modulus) ensures a more uniform distribution of hash values, minimizing clustering and collisions. This practice enhances the efficiency and effectiveness of the hash function.\n"
   ]
  },
  {
   "cell_type": "markdown",
   "metadata": {},
   "source": [
    "# Task 3: SHA256 Padding\n",
    "\n",
    "SHA256 requires messages to be padded to a multiple of 512 bits, as specified in [FIPS 180-4, Section 5.1.1](https://nvlpubs.nist.gov/nistpubs/FIPS/NIST.FIPS.180-4.pdf).\n",
    "This function:\n",
    "1. Reads a file's contents.\n",
    "2. Appends a `1` bit (`0x80` in hex).\n",
    "3. Adds `0` bits until the total length is `56 mod 64`.\n",
    "4. Appends the original message length as a big-endian 64-bit integer.\n",
    "\n",
    "This padding ensures compatibility with SHA256 hashing.\n"
   ]
  },
  {
   "cell_type": "code",
   "execution_count": 25,
   "metadata": {},
   "outputs": [],
   "source": [
    "import struct\n",
    "import os\n",
    "\n",
    "def calculate_sha256_padding(file_path):\n",
    "    \"\"\"\n",
    "    Computes the SHA256 padding for a given file.\n",
    "    \n",
    "    Args:\n",
    "    - file_path (str): The path to the input file.\n",
    "    \n",
    "    Prints:\n",
    "    - The padding bytes in hexadecimal.\n",
    "    \"\"\"\n",
    "    if not os.path.exists(file_path):\n",
    "        print(f\"Error: File {file_path} does not exist.\")\n",
    "        return\n",
    "    \n",
    "    with open(file_path, 'rb') as f:\n",
    "        data = f.read()\n",
    "\n",
    "    print(f\"Read {len(data)} bytes from {file_path}\")\n",
    "\n",
    "    original_length = len(data)\n",
    "    original_bit_length = original_length * 8  # Convert bytes to bits\n",
    "\n",
    "    # Append '1' bit (0x80 in hex)\n",
    "    padding = b'\\x80'\n",
    "\n",
    "    # Compute required zero padding\n",
    "    total_length = original_length + 1\n",
    "    while (total_length + 8) % 64 != 0:\n",
    "        padding += b'\\x00'\n",
    "        total_length += 1\n",
    "\n",
    "    # Append original length in bits as a big-endian 64-bit integer\n",
    "    padding += struct.pack('>Q', original_bit_length)\n",
    "\n",
    "    print(f\"Padding length: {len(padding)} bytes\")\n",
    "    print(\"Padding (Hex):\", \" \".join(f\"{byte:02x}\" for byte in padding))\n"
   ]
  },
  {
   "cell_type": "markdown",
   "metadata": {},
   "source": [
    "Testing the SHA256 Padding Function:\n",
    "We apply the padding function to 'test.txt`, which contains a short message.\n"
   ]
  },
  {
   "cell_type": "code",
   "execution_count": 26,
   "metadata": {},
   "outputs": [
    {
     "name": "stdout",
     "output_type": "stream",
     "text": [
      "Read 3 bytes from test.txt\n",
      "Padding length: 61 bytes\n",
      "Padding (Hex): 80 00 00 00 00 00 00 00 00 00 00 00 00 00 00 00 00 00 00 00 00 00 00 00 00 00 00 00 00 00 00 00 00 00 00 00 00 00 00 00 00 00 00 00 00 00 00 00 00 00 00 00 00 00 00 00 00 00 00 00 18\n"
     ]
    }
   ],
   "source": [
    "# Run the padding function\n",
    "calculate_sha256_padding(\"test.txt\")"
   ]
  },
  {
   "cell_type": "markdown",
   "metadata": {},
   "source": [
    "For more details on hash function design:\n",
    "- [Why does Java's hashCode() use 31 as a multiplier?](https://www.geeksforgeeks.org/why-does-javas-hashcode-in-string-use-31-as-a-multiplier/)\n",
    "- [Prime Numbers in Hash Functions](https://www.designgurus.io/answers/detail/why-should-hash-functions-use-a-prime-number-modulus)\n",
    "- [Hash Function Design Principles](https://www.cs.hmc.edu/~geoff/classes/hmc.cs070.200101/homework10/hashfuncs.html)"
   ]
  },
  {
   "cell_type": "markdown",
   "metadata": {},
   "source": [
    "# Task 4: Calculate the First 100 Prime Numbers Using Two Algorithms\n",
    "\n",
    "## Overview\n",
    "This notebook computes the first 100 prime numbers using:\n",
    "1. **Trial Division Method** - A basic but slow approach.\n",
    "2. **Sieve of Eratosthenes** - A more efficient method for generating primes.\n"
   ]
  },
  {
   "cell_type": "markdown",
   "metadata": {},
   "source": [
    "## Implementing the [Trial Division Method](https://www.geeksforgeeks.org/trial-division-algorithm-for-prime-factorization/)\n",
    "\n",
    "### How It Works:\n",
    "- A number **n** is prime if it is **only divisible by 1 and itself**.\n",
    "- To check if a number is prime:\n",
    "  1. Start from `n = 2` and check divisibility up to `sqrt(n)`.\n",
    "  2. If no divisor is found, it is prime.\n",
    "  3. Continue finding primes until we reach **100 primes**.\n",
    "\n",
    "#### **Efficiency**:\n",
    "- **Time Complexity**: \\( O(n \\sqrt{n}) \\) (not optimal for large numbers).\n"
   ]
  },
  {
   "cell_type": "code",
   "execution_count": 27,
   "metadata": {},
   "outputs": [
    {
     "data": {
      "text/plain": [
       "[2,\n",
       " 3,\n",
       " 5,\n",
       " 7,\n",
       " 11,\n",
       " 13,\n",
       " 17,\n",
       " 19,\n",
       " 23,\n",
       " 29,\n",
       " 31,\n",
       " 37,\n",
       " 41,\n",
       " 43,\n",
       " 47,\n",
       " 53,\n",
       " 59,\n",
       " 61,\n",
       " 67,\n",
       " 71,\n",
       " 73,\n",
       " 79,\n",
       " 83,\n",
       " 89,\n",
       " 97,\n",
       " 101,\n",
       " 103,\n",
       " 107,\n",
       " 109,\n",
       " 113,\n",
       " 127,\n",
       " 131,\n",
       " 137,\n",
       " 139,\n",
       " 149,\n",
       " 151,\n",
       " 157,\n",
       " 163,\n",
       " 167,\n",
       " 173,\n",
       " 179,\n",
       " 181,\n",
       " 191,\n",
       " 193,\n",
       " 197,\n",
       " 199,\n",
       " 211,\n",
       " 223,\n",
       " 227,\n",
       " 229,\n",
       " 233,\n",
       " 239,\n",
       " 241,\n",
       " 251,\n",
       " 257,\n",
       " 263,\n",
       " 269,\n",
       " 271,\n",
       " 277,\n",
       " 281,\n",
       " 283,\n",
       " 293,\n",
       " 307,\n",
       " 311,\n",
       " 313,\n",
       " 317,\n",
       " 331,\n",
       " 337,\n",
       " 347,\n",
       " 349,\n",
       " 353,\n",
       " 359,\n",
       " 367,\n",
       " 373,\n",
       " 379,\n",
       " 383,\n",
       " 389,\n",
       " 397,\n",
       " 401,\n",
       " 409,\n",
       " 419,\n",
       " 421,\n",
       " 431,\n",
       " 433,\n",
       " 439,\n",
       " 443,\n",
       " 449,\n",
       " 457,\n",
       " 461,\n",
       " 463,\n",
       " 467,\n",
       " 479,\n",
       " 487,\n",
       " 491,\n",
       " 499,\n",
       " 503,\n",
       " 509,\n",
       " 521,\n",
       " 523,\n",
       " 541]"
      ]
     },
     "execution_count": 27,
     "metadata": {},
     "output_type": "execute_result"
    }
   ],
   "source": [
    "import math\n",
    "\n",
    "def is_prime_trial_division(n):\n",
    "    \"\"\"Checks if a number is prime using trial division.\"\"\"\n",
    "    if n < 2:\n",
    "        return False\n",
    "    for i in range(2, int(math.sqrt(n)) + 1):\n",
    "        if n % i == 0:\n",
    "            return False\n",
    "    return True\n",
    "\n",
    "def first_n_primes_trial_division(n):\n",
    "    \"\"\"Finds the first n prime numbers using the trial division method.\"\"\"\n",
    "    primes = []\n",
    "    num = 2  # Start checking from 2\n",
    "    while len(primes) < n:\n",
    "        if is_prime_trial_division(num):\n",
    "            primes.append(num)\n",
    "        num += 1\n",
    "    return primes\n",
    "\n",
    "# Compute the first 100 primes using Trial Division\n",
    "primes_trial_division = first_n_primes_trial_division(100)\n",
    "\n",
    "# Display the first 100 primes\n",
    "primes_trial_division[:100]\n"
   ]
  },
  {
   "cell_type": "markdown",
   "metadata": {},
   "source": [
    "##  Implementing the [Sieve of Eratosthenes](https://cp-algorithms.com/algebra/sieve-of-eratosthenes.html)\n",
    "\n",
    "### How It Works:\n",
    "1. Create a **boolean array** of size `N`, marking all numbers as **prime**.\n",
    "2. Start with the smallest prime (`2`) and **mark all multiples as non-prime**.\n",
    "3. Repeat for the next **unmarked number**.\n",
    "4. Continue until the required number of primes are reached\n",
    "\n",
    "#### **Efficiency**:\n",
    "- **Time Complexity**: \\( O(n \\log \\log n) \\) (faster than trial division).\n",
    "- **Space Complexity**: \\( O(n) \\) (requires an array to track primes).\n"
   ]
  },
  {
   "cell_type": "code",
   "execution_count": 28,
   "metadata": {},
   "outputs": [
    {
     "data": {
      "text/plain": [
       "[2,\n",
       " 3,\n",
       " 5,\n",
       " 7,\n",
       " 11,\n",
       " 13,\n",
       " 17,\n",
       " 19,\n",
       " 23,\n",
       " 29,\n",
       " 31,\n",
       " 37,\n",
       " 41,\n",
       " 43,\n",
       " 47,\n",
       " 53,\n",
       " 59,\n",
       " 61,\n",
       " 67,\n",
       " 71,\n",
       " 73,\n",
       " 79,\n",
       " 83,\n",
       " 89,\n",
       " 97,\n",
       " 101,\n",
       " 103,\n",
       " 107,\n",
       " 109,\n",
       " 113,\n",
       " 127,\n",
       " 131,\n",
       " 137,\n",
       " 139,\n",
       " 149,\n",
       " 151,\n",
       " 157,\n",
       " 163,\n",
       " 167,\n",
       " 173,\n",
       " 179,\n",
       " 181,\n",
       " 191,\n",
       " 193,\n",
       " 197,\n",
       " 199,\n",
       " 211,\n",
       " 223,\n",
       " 227,\n",
       " 229,\n",
       " 233,\n",
       " 239,\n",
       " 241,\n",
       " 251,\n",
       " 257,\n",
       " 263,\n",
       " 269,\n",
       " 271,\n",
       " 277,\n",
       " 281,\n",
       " 283,\n",
       " 293,\n",
       " 307,\n",
       " 311,\n",
       " 313,\n",
       " 317,\n",
       " 331,\n",
       " 337,\n",
       " 347,\n",
       " 349,\n",
       " 353,\n",
       " 359,\n",
       " 367,\n",
       " 373,\n",
       " 379,\n",
       " 383,\n",
       " 389,\n",
       " 397,\n",
       " 401,\n",
       " 409,\n",
       " 419,\n",
       " 421,\n",
       " 431,\n",
       " 433,\n",
       " 439,\n",
       " 443,\n",
       " 449,\n",
       " 457,\n",
       " 461,\n",
       " 463,\n",
       " 467,\n",
       " 479,\n",
       " 487,\n",
       " 491,\n",
       " 499,\n",
       " 503,\n",
       " 509,\n",
       " 521,\n",
       " 523,\n",
       " 541]"
      ]
     },
     "execution_count": 28,
     "metadata": {},
     "output_type": "execute_result"
    }
   ],
   "source": [
    "def sieve_of_eratosthenes(limit):\n",
    "    \"\"\"Finds all prime numbers up to a given limit using the Sieve of Eratosthenes.\"\"\"\n",
    "    sieve = [True] * (limit + 1)  # Assume all numbers are prime\n",
    "    sieve[0] = sieve[1] = False  # 0 and 1 are not prime\n",
    "\n",
    "    for start in range(2, int(math.sqrt(limit)) + 1):\n",
    "        if sieve[start]:  # If it's still marked as prime\n",
    "            for multiple in range(start * start, limit + 1, start):\n",
    "                sieve[multiple] = False  # Mark multiples as non-prime\n",
    "\n",
    "    return [num for num, is_prime in enumerate(sieve) if is_prime]\n",
    "\n",
    "# Approximate limit to get at least 100 primes\n",
    "primes_sieve = sieve_of_eratosthenes(542)[:100]  # 542 is an estimate\n",
    "\n",
    "# Display the first 100 primes\n",
    "primes_sieve[:100]"
   ]
  },
  {
   "cell_type": "markdown",
   "metadata": {},
   "source": [
    "# Task 5: Roots\n",
    "This task involves:\n",
    "1. **Finding the first 100 prime numbers**.\n",
    "2. **Computing their square root**.\n",
    "3. **Extracting the fractional part of the square root**.\n",
    "4. **Extracting the first 32 bits and converting them to hexadecimal & binary**.\n"
   ]
  },
  {
   "cell_type": "markdown",
   "metadata": {},
   "source": [
    "## Find the First 100 Prime Numbers\n",
    "To perform the calculations, it is first needed to generate **the first 100 prime numbers**. \n",
    "We will use the **Trial Division method**, which checks divisibility up to \\( \\sqrt{n} \\).\n"
   ]
  },
  {
   "cell_type": "code",
   "execution_count": 29,
   "metadata": {},
   "outputs": [
    {
     "data": {
      "text/plain": [
       "[2, 3, 5, 7, 11, 13, 17, 19, 23, 29]"
      ]
     },
     "execution_count": 29,
     "metadata": {},
     "output_type": "execute_result"
    }
   ],
   "source": [
    "import math\n",
    "import numpy as np\n",
    "\n",
    "def is_prime(n):\n",
    "    \"\"\"Checks if a number is prime using trial division.\"\"\"\n",
    "    if n < 2:\n",
    "        return False\n",
    "    for i in range(2, int(math.sqrt(n)) + 1):\n",
    "        if n % i == 0:\n",
    "            return False\n",
    "    return True\n",
    "\n",
    "def first_n_primes(n):\n",
    "    \"\"\"Finds the first n prime numbers using trial division.\"\"\"\n",
    "    primes = []\n",
    "    num = 2\n",
    "    while len(primes) < n:\n",
    "        if is_prime(num):\n",
    "            primes.append(num)\n",
    "        num += 1\n",
    "    return primes\n",
    "\n",
    "# Compute the first 100 prime numbers\n",
    "primes = first_n_primes(100)\n",
    "\n",
    "# Display the first 10 primes for verification\n",
    "primes[:10]\n"
   ]
  },
  {
   "cell_type": "markdown",
   "metadata": {},
   "source": [
    "## Extract First 32 Bits of the Fractional Part\n",
    "\n",
    "For each prime number:\n",
    "1. Compute its **square root**.\n",
    "2. Extract the **fractional part** (decimal portion).\n",
    "3. Multiply by \\(2^{32}\\) to shift the fractional bits in front of the decimal point.\n",
    "4. Convert to **binary and hexadecimal formats**."
   ]
  },
  {
   "cell_type": "code",
   "execution_count": 30,
   "metadata": {},
   "outputs": [
    {
     "data": {
      "text/plain": [
       "[(2, 1779033703),\n",
       " (3, 3144134277),\n",
       " (5, 1013904242),\n",
       " (7, 2773480762),\n",
       " (11, 1359893119),\n",
       " (13, 2600822924),\n",
       " (17, 528734635),\n",
       " (19, 1541459225),\n",
       " (23, 3418070365),\n",
       " (29, 1654270250)]"
      ]
     },
     "execution_count": 30,
     "metadata": {},
     "output_type": "execute_result"
    }
   ],
   "source": [
    "fractional_bits_32 = []  # Store 32-bit fractional values\n",
    "\n",
    "for num in primes:  \n",
    "    # Find the square root of the prime number\n",
    "    root_value = np.sqrt(num)\n",
    "    \n",
    "    # Get only the fractional part (discard the integer part)\n",
    "    fraction = root_value % 1  \n",
    "\n",
    "    # Shift left by 32 bits to extract the first 32 bits\n",
    "    shifted_fraction = fraction * (1 << 32)\n",
    "\n",
    "    # Convert to an integer\n",
    "    fraction_bits = int(shifted_fraction)\n",
    "\n",
    "    # Store the result\n",
    "    fractional_bits_32.append(fraction_bits)\n",
    "\n",
    "# Show first 10 values for verification\n",
    "list(zip(primes[:10], fractional_bits_32[:10]))\n"
   ]
  },
  {
   "cell_type": "markdown",
   "metadata": {},
   "source": [
    "## Display Results in Hexadecimal and Binary Formats\n",
    "\n",
    "The format is tabled to show:\n",
    "- **Prime Number**.\n",
    "- **First 32 Bits (Hexadecimal)**.\n",
    "- **First 32 Bits (Binary)**.\n"
   ]
  },
  {
   "cell_type": "code",
   "execution_count": null,
   "metadata": {},
   "outputs": [],
   "source": []
  },
  {
   "cell_type": "markdown",
   "metadata": {},
   "source": [
    "# Task 6: Proof of Work\n",
    "\n",
    "## Objective\n",
    "In this task, the aim is to:\n",
    "1. Search through a list of valid English words.\n",
    "2. Calculate the SHA-256 hash of each word.\n",
    "3. Count the number of **leading zero bits** in each hash's binary form.\n",
    "4. Identify the word(s) with the **most leading zero bits**.\n",
    "5. Prove that each word found is valid by showing it's in a dictionary.\n",
    "\n",
    "This simulates a simplified version of a **proof-of-work system** used in cryptocurrencies like Bitcoin.\n"
   ]
  },
  {
   "cell_type": "code",
   "execution_count": 31,
   "metadata": {},
   "outputs": [
    {
     "name": "stdout",
     "output_type": "stream",
     "text": [
      "Loaded 45373 words from words.txt\n"
     ]
    }
   ],
   "source": [
    "# Read words from the local file `words.txt`\n",
    "with open(\"words.txt\", \"r\") as f:\n",
    "    word_list = {line.strip() for line in f if line.strip()}\n",
    "\n",
    "print(f\"Loaded {len(word_list)} words from words.txt\")\n"
   ]
  },
  {
   "cell_type": "code",
   "execution_count": 32,
   "metadata": {},
   "outputs": [],
   "source": [
    "import hashlib\n",
    "\n",
    "def get_sha256_binary(word):\n",
    "    \"\"\"Returns 256-bit binary SHA-256 hash of a word.\"\"\"\n",
    "    digest = hashlib.sha256(word.encode()).hexdigest()\n",
    "    return bin(int(digest, 16))[2:].zfill(256)\n",
    "\n",
    "def count_leading_zeros(binary_str):\n",
    "    \"\"\"Counts the number of leading 0 bits in a binary string.\"\"\"\n",
    "    return len(binary_str) - len(binary_str.lstrip('0'))\n"
   ]
  },
  {
   "cell_type": "code",
   "execution_count": 33,
   "metadata": {},
   "outputs": [],
   "source": [
    "max_zeros = 0\n",
    "best_words = []\n",
    "\n",
    "for word in word_list:\n",
    "    binary_hash = get_sha256_binary(word)\n",
    "    zeros = count_leading_zeros(binary_hash)\n",
    "    \n",
    "    if zeros > max_zeros:\n",
    "        max_zeros = zeros\n",
    "        best_words = [(word, binary_hash, zeros)]\n",
    "    elif zeros == max_zeros:\n",
    "        best_words.append((word, binary_hash, zeros))\n"
   ]
  },
  {
   "cell_type": "code",
   "execution_count": 34,
   "metadata": {},
   "outputs": [
    {
     "data": {
      "text/html": [
       "<div>\n",
       "<style scoped>\n",
       "    .dataframe tbody tr th:only-of-type {\n",
       "        vertical-align: middle;\n",
       "    }\n",
       "\n",
       "    .dataframe tbody tr th {\n",
       "        vertical-align: top;\n",
       "    }\n",
       "\n",
       "    .dataframe thead th {\n",
       "        text-align: right;\n",
       "    }\n",
       "</style>\n",
       "<table border=\"1\" class=\"dataframe\">\n",
       "  <thead>\n",
       "    <tr style=\"text-align: right;\">\n",
       "      <th></th>\n",
       "      <th>Word</th>\n",
       "      <th>Leading Zero Bits</th>\n",
       "      <th>Hash (First 64 Bits)</th>\n",
       "    </tr>\n",
       "  </thead>\n",
       "  <tbody>\n",
       "    <tr>\n",
       "      <th>0</th>\n",
       "      <td>APPLICANT</td>\n",
       "      <td>16</td>\n",
       "      <td>0000000000000000110010100000000110101101110010...</td>\n",
       "    </tr>\n",
       "  </tbody>\n",
       "</table>\n",
       "</div>"
      ],
      "text/plain": [
       "        Word  Leading Zero Bits  \\\n",
       "0  APPLICANT                 16   \n",
       "\n",
       "                                Hash (First 64 Bits)  \n",
       "0  0000000000000000110010100000000110101101110010...  "
      ]
     },
     "metadata": {},
     "output_type": "display_data"
    }
   ],
   "source": [
    "import pandas as pd\n",
    "\n",
    "df = pd.DataFrame(best_words, columns=[\"Word\", \"Binary Hash\", \"Leading Zero Bits\"])\n",
    "df[\"Hash (First 64 Bits)\"] = df[\"Binary Hash\"].str[:64]\n",
    "df = df.drop(columns=[\"Binary Hash\"])\n",
    "\n",
    "display(df)\n"
   ]
  },
  {
   "cell_type": "markdown",
   "metadata": {},
   "source": [
    "# Task 7: Turing Machines\n",
    "\n",
    "## Objective\n",
    "Design a Turing Machine that:\n",
    "- Starts at the **leftmost bit** of a binary number on the tape.\n",
    "- Adds **1** to the number, treating it as binary.\n",
    "- Assumes the **rightmost symbol is the least significant bit (LSB)**.\n",
    "- Ends with the correct binary result on the tape.\n",
    "\n",
    "### Example:\n",
    "- Input on tape: `100111`\n",
    "- Output after machine halts: `101000`\n",
    "\n",
    "This Turing Machine performs binary addition by simulating a carry-bit addition from the LSB to the MSB.\n"
   ]
  },
  {
   "cell_type": "markdown",
   "metadata": {},
   "source": [
    "## Design Explanation\n",
    "\n",
    "The Turing Machine will perform the following steps:\n",
    "\n",
    "1. **Move right** until it reaches the end of the number (the rightmost bit).\n",
    "2. **Perform addition** from right to left:\n",
    "   - If it sees a `0`, change it to `1` and **halt**.\n",
    "   - If it sees a `1`, change it to `0` and **carry the 1** to the left.\n",
    "   - If it reaches a blank (meaning all bits were `1`), **insert `1` at the front**.\n",
    "3. The machine halts when the addition is complete.\n"
   ]
  },
  {
   "cell_type": "markdown",
   "metadata": {},
   "source": [
    "##  States and Transitions\n",
    "\n",
    "| State     | Read | Write | Move | Next State |\n",
    "|-----------|------|-------|------|------------|\n",
    "| `q0`      | 0/1  | 0/1   | R    | `q0`       |\n",
    "| `q0`      | □    | □     | L    | `q1`       |\n",
    "| `q1`      | 0    | 1     | N    | `HALT`     |\n",
    "| `q1`      | 1    | 0     | L    | `q1`       |\n",
    "| `q1`      | □    | 1     | N    | `HALT`     |\n",
    "\n",
    "**State Descriptions:**\n",
    "- `q0`: Move to the end of the binary number.\n",
    "- `q1`: Move back left, applying the addition.\n"
   ]
  },
  {
   "cell_type": "code",
   "execution_count": 35,
   "metadata": {},
   "outputs": [
    {
     "data": {
      "text/plain": [
       "'101000'"
      ]
     },
     "execution_count": 35,
     "metadata": {},
     "output_type": "execute_result"
    }
   ],
   "source": [
    "def binary_add_one_turing_machine(tape_str):\n",
    "    tape = list(tape_str) + ['□']  # Add blank at the end\n",
    "    head = 0\n",
    "    state = 'q0'\n",
    "\n",
    "    while True:\n",
    "        symbol = tape[head]\n",
    "\n",
    "        if state == 'q0':\n",
    "            if symbol in ('0', '1'):\n",
    "                head += 1  # Move right\n",
    "            elif symbol == '□':\n",
    "                head -= 1  # Move left\n",
    "                state = 'q1'\n",
    "\n",
    "        elif state == 'q1':\n",
    "            if tape[head] == '0':\n",
    "                tape[head] = '1'\n",
    "                break  # Done, halt\n",
    "            elif tape[head] == '1':\n",
    "                tape[head] = '0'\n",
    "                head -= 1  # Carry the 1\n",
    "            elif tape[head] == '□':\n",
    "                tape[head] = '1'  # All 1's (e.g. 111 + 1 = 1000)\n",
    "                break\n",
    "\n",
    "    return ''.join(tape).rstrip('□')  # Remove trailing blank\n",
    "\n",
    "# Example test\n",
    "binary_add_one_turing_machine(\"100111\")\n"
   ]
  },
  {
   "cell_type": "markdown",
   "metadata": {},
   "source": [
    "## Output\n",
    "\n",
    "Input: `100111`  \n",
    "Output: `101000`\n",
    "\n",
    "This matches the expected result.\n"
   ]
  },
  {
   "cell_type": "markdown",
   "metadata": {},
   "source": [
    "# Task 8: Computational Complexity\n",
    "\n",
    "## Objective\n",
    "- Implement the **Bubble Sort** algorithm in Python.\n",
    "- Modify it to **count the number of comparisons** made during sorting.\n",
    "- Apply it to **all permutations** of the list `L = [1, 2, 3, 4, 5]`.\n",
    "- For each permutation:\n",
    "  - Print the permutation.\n",
    "  - Print the number of comparisons Bubble Sort made to sort it."
   ]
  },
  {
   "cell_type": "code",
   "execution_count": 36,
   "metadata": {},
   "outputs": [],
   "source": [
    "import itertools\n",
    "\n",
    "def bubble_sort_with_comparisons(arr):\n",
    "    \"\"\"\n",
    "    Bubble sort implementation that counts comparisons.\n",
    "    \n",
    "    Args:\n",
    "    - arr (list): The input list to sort\n",
    "    \n",
    "    Returns:\n",
    "    - sorted_list (list): The sorted version of the input\n",
    "    - comparison_count (int): The number of element comparisons made\n",
    "    \"\"\"\n",
    "    a = arr.copy()  # Make a copy to avoid modifying the original\n",
    "    n = len(a)\n",
    "    comparisons = 0\n",
    "\n",
    "    for i in range(n):\n",
    "        for j in range(0, n - i - 1):\n",
    "            comparisons += 1  # Count this comparison\n",
    "            if a[j] > a[j + 1]:\n",
    "                a[j], a[j + 1] = a[j + 1], a[j]\n",
    "    \n",
    "    return a, comparisons\n"
   ]
  },
  {
   "cell_type": "markdown",
   "metadata": {},
   "source": [
    "## Generate All Permutations of [1, 2, 3, 4, 5]\n",
    "\n",
    "Generate every possible ordering (5! = 120 permutations).\n"
   ]
  },
  {
   "cell_type": "code",
   "execution_count": 37,
   "metadata": {},
   "outputs": [],
   "source": [
    "L = [1, 2, 3, 4, 5]\n",
    "permutations = list(itertools.permutations(L))\n"
   ]
  },
  {
   "cell_type": "markdown",
   "metadata": {},
   "source": [
    "## Run Bubble Sort on All Permutations\n",
    "\n",
    "- Sort each permutation.\n",
    "- Count the number of comparisons.\n",
    "- Print both the permutation and the comparison count.\n"
   ]
  },
  {
   "cell_type": "code",
   "execution_count": 38,
   "metadata": {},
   "outputs": [
    {
     "name": "stdout",
     "output_type": "stream",
     "text": [
      "Permutation: (1, 2, 3, 4, 5) -> Comparisons: 10\n",
      "Permutation: (1, 2, 3, 5, 4) -> Comparisons: 10\n",
      "Permutation: (1, 2, 4, 3, 5) -> Comparisons: 10\n",
      "Permutation: (1, 2, 4, 5, 3) -> Comparisons: 10\n",
      "Permutation: (1, 2, 5, 3, 4) -> Comparisons: 10\n",
      "Permutation: (1, 2, 5, 4, 3) -> Comparisons: 10\n",
      "Permutation: (1, 3, 2, 4, 5) -> Comparisons: 10\n",
      "Permutation: (1, 3, 2, 5, 4) -> Comparisons: 10\n",
      "Permutation: (1, 3, 4, 2, 5) -> Comparisons: 10\n",
      "Permutation: (1, 3, 4, 5, 2) -> Comparisons: 10\n",
      "Permutation: (1, 3, 5, 2, 4) -> Comparisons: 10\n",
      "Permutation: (1, 3, 5, 4, 2) -> Comparisons: 10\n",
      "Permutation: (1, 4, 2, 3, 5) -> Comparisons: 10\n",
      "Permutation: (1, 4, 2, 5, 3) -> Comparisons: 10\n",
      "Permutation: (1, 4, 3, 2, 5) -> Comparisons: 10\n",
      "Permutation: (1, 4, 3, 5, 2) -> Comparisons: 10\n",
      "Permutation: (1, 4, 5, 2, 3) -> Comparisons: 10\n",
      "Permutation: (1, 4, 5, 3, 2) -> Comparisons: 10\n",
      "Permutation: (1, 5, 2, 3, 4) -> Comparisons: 10\n",
      "Permutation: (1, 5, 2, 4, 3) -> Comparisons: 10\n",
      "Permutation: (1, 5, 3, 2, 4) -> Comparisons: 10\n",
      "Permutation: (1, 5, 3, 4, 2) -> Comparisons: 10\n",
      "Permutation: (1, 5, 4, 2, 3) -> Comparisons: 10\n",
      "Permutation: (1, 5, 4, 3, 2) -> Comparisons: 10\n",
      "Permutation: (2, 1, 3, 4, 5) -> Comparisons: 10\n",
      "Permutation: (2, 1, 3, 5, 4) -> Comparisons: 10\n",
      "Permutation: (2, 1, 4, 3, 5) -> Comparisons: 10\n",
      "Permutation: (2, 1, 4, 5, 3) -> Comparisons: 10\n",
      "Permutation: (2, 1, 5, 3, 4) -> Comparisons: 10\n",
      "Permutation: (2, 1, 5, 4, 3) -> Comparisons: 10\n",
      "Permutation: (2, 3, 1, 4, 5) -> Comparisons: 10\n",
      "Permutation: (2, 3, 1, 5, 4) -> Comparisons: 10\n",
      "Permutation: (2, 3, 4, 1, 5) -> Comparisons: 10\n",
      "Permutation: (2, 3, 4, 5, 1) -> Comparisons: 10\n",
      "Permutation: (2, 3, 5, 1, 4) -> Comparisons: 10\n",
      "Permutation: (2, 3, 5, 4, 1) -> Comparisons: 10\n",
      "Permutation: (2, 4, 1, 3, 5) -> Comparisons: 10\n",
      "Permutation: (2, 4, 1, 5, 3) -> Comparisons: 10\n",
      "Permutation: (2, 4, 3, 1, 5) -> Comparisons: 10\n",
      "Permutation: (2, 4, 3, 5, 1) -> Comparisons: 10\n",
      "Permutation: (2, 4, 5, 1, 3) -> Comparisons: 10\n",
      "Permutation: (2, 4, 5, 3, 1) -> Comparisons: 10\n",
      "Permutation: (2, 5, 1, 3, 4) -> Comparisons: 10\n",
      "Permutation: (2, 5, 1, 4, 3) -> Comparisons: 10\n",
      "Permutation: (2, 5, 3, 1, 4) -> Comparisons: 10\n",
      "Permutation: (2, 5, 3, 4, 1) -> Comparisons: 10\n",
      "Permutation: (2, 5, 4, 1, 3) -> Comparisons: 10\n",
      "Permutation: (2, 5, 4, 3, 1) -> Comparisons: 10\n",
      "Permutation: (3, 1, 2, 4, 5) -> Comparisons: 10\n",
      "Permutation: (3, 1, 2, 5, 4) -> Comparisons: 10\n",
      "Permutation: (3, 1, 4, 2, 5) -> Comparisons: 10\n",
      "Permutation: (3, 1, 4, 5, 2) -> Comparisons: 10\n",
      "Permutation: (3, 1, 5, 2, 4) -> Comparisons: 10\n",
      "Permutation: (3, 1, 5, 4, 2) -> Comparisons: 10\n",
      "Permutation: (3, 2, 1, 4, 5) -> Comparisons: 10\n",
      "Permutation: (3, 2, 1, 5, 4) -> Comparisons: 10\n",
      "Permutation: (3, 2, 4, 1, 5) -> Comparisons: 10\n",
      "Permutation: (3, 2, 4, 5, 1) -> Comparisons: 10\n",
      "Permutation: (3, 2, 5, 1, 4) -> Comparisons: 10\n",
      "Permutation: (3, 2, 5, 4, 1) -> Comparisons: 10\n",
      "Permutation: (3, 4, 1, 2, 5) -> Comparisons: 10\n",
      "Permutation: (3, 4, 1, 5, 2) -> Comparisons: 10\n",
      "Permutation: (3, 4, 2, 1, 5) -> Comparisons: 10\n",
      "Permutation: (3, 4, 2, 5, 1) -> Comparisons: 10\n",
      "Permutation: (3, 4, 5, 1, 2) -> Comparisons: 10\n",
      "Permutation: (3, 4, 5, 2, 1) -> Comparisons: 10\n",
      "Permutation: (3, 5, 1, 2, 4) -> Comparisons: 10\n",
      "Permutation: (3, 5, 1, 4, 2) -> Comparisons: 10\n",
      "Permutation: (3, 5, 2, 1, 4) -> Comparisons: 10\n",
      "Permutation: (3, 5, 2, 4, 1) -> Comparisons: 10\n",
      "Permutation: (3, 5, 4, 1, 2) -> Comparisons: 10\n",
      "Permutation: (3, 5, 4, 2, 1) -> Comparisons: 10\n",
      "Permutation: (4, 1, 2, 3, 5) -> Comparisons: 10\n",
      "Permutation: (4, 1, 2, 5, 3) -> Comparisons: 10\n",
      "Permutation: (4, 1, 3, 2, 5) -> Comparisons: 10\n",
      "Permutation: (4, 1, 3, 5, 2) -> Comparisons: 10\n",
      "Permutation: (4, 1, 5, 2, 3) -> Comparisons: 10\n",
      "Permutation: (4, 1, 5, 3, 2) -> Comparisons: 10\n",
      "Permutation: (4, 2, 1, 3, 5) -> Comparisons: 10\n",
      "Permutation: (4, 2, 1, 5, 3) -> Comparisons: 10\n",
      "Permutation: (4, 2, 3, 1, 5) -> Comparisons: 10\n",
      "Permutation: (4, 2, 3, 5, 1) -> Comparisons: 10\n",
      "Permutation: (4, 2, 5, 1, 3) -> Comparisons: 10\n",
      "Permutation: (4, 2, 5, 3, 1) -> Comparisons: 10\n",
      "Permutation: (4, 3, 1, 2, 5) -> Comparisons: 10\n",
      "Permutation: (4, 3, 1, 5, 2) -> Comparisons: 10\n",
      "Permutation: (4, 3, 2, 1, 5) -> Comparisons: 10\n",
      "Permutation: (4, 3, 2, 5, 1) -> Comparisons: 10\n",
      "Permutation: (4, 3, 5, 1, 2) -> Comparisons: 10\n",
      "Permutation: (4, 3, 5, 2, 1) -> Comparisons: 10\n",
      "Permutation: (4, 5, 1, 2, 3) -> Comparisons: 10\n",
      "Permutation: (4, 5, 1, 3, 2) -> Comparisons: 10\n",
      "Permutation: (4, 5, 2, 1, 3) -> Comparisons: 10\n",
      "Permutation: (4, 5, 2, 3, 1) -> Comparisons: 10\n",
      "Permutation: (4, 5, 3, 1, 2) -> Comparisons: 10\n",
      "Permutation: (4, 5, 3, 2, 1) -> Comparisons: 10\n",
      "Permutation: (5, 1, 2, 3, 4) -> Comparisons: 10\n",
      "Permutation: (5, 1, 2, 4, 3) -> Comparisons: 10\n",
      "Permutation: (5, 1, 3, 2, 4) -> Comparisons: 10\n",
      "Permutation: (5, 1, 3, 4, 2) -> Comparisons: 10\n",
      "Permutation: (5, 1, 4, 2, 3) -> Comparisons: 10\n",
      "Permutation: (5, 1, 4, 3, 2) -> Comparisons: 10\n",
      "Permutation: (5, 2, 1, 3, 4) -> Comparisons: 10\n",
      "Permutation: (5, 2, 1, 4, 3) -> Comparisons: 10\n",
      "Permutation: (5, 2, 3, 1, 4) -> Comparisons: 10\n",
      "Permutation: (5, 2, 3, 4, 1) -> Comparisons: 10\n",
      "Permutation: (5, 2, 4, 1, 3) -> Comparisons: 10\n",
      "Permutation: (5, 2, 4, 3, 1) -> Comparisons: 10\n",
      "Permutation: (5, 3, 1, 2, 4) -> Comparisons: 10\n",
      "Permutation: (5, 3, 1, 4, 2) -> Comparisons: 10\n",
      "Permutation: (5, 3, 2, 1, 4) -> Comparisons: 10\n",
      "Permutation: (5, 3, 2, 4, 1) -> Comparisons: 10\n",
      "Permutation: (5, 3, 4, 1, 2) -> Comparisons: 10\n",
      "Permutation: (5, 3, 4, 2, 1) -> Comparisons: 10\n",
      "Permutation: (5, 4, 1, 2, 3) -> Comparisons: 10\n",
      "Permutation: (5, 4, 1, 3, 2) -> Comparisons: 10\n",
      "Permutation: (5, 4, 2, 1, 3) -> Comparisons: 10\n",
      "Permutation: (5, 4, 2, 3, 1) -> Comparisons: 10\n",
      "Permutation: (5, 4, 3, 1, 2) -> Comparisons: 10\n",
      "Permutation: (5, 4, 3, 2, 1) -> Comparisons: 10\n"
     ]
    }
   ],
   "source": [
    "def new_func(perm):\n",
    "    _, comparisons = bubble_sort_with_comparisons(list(perm))\n",
    "    return comparisons\n",
    "\n",
    "for perm in permutations:\n",
    "    comparisons = new_func(perm)\n",
    "    print(f\"Permutation: {perm} -> Comparisons: {comparisons}\")\n"
   ]
  }
 ],
 "metadata": {
  "kernelspec": {
   "display_name": "Python 3",
   "language": "python",
   "name": "python3"
  },
  "language_info": {
   "codemirror_mode": {
    "name": "ipython",
    "version": 3
   },
   "file_extension": ".py",
   "mimetype": "text/x-python",
   "name": "python",
   "nbconvert_exporter": "python",
   "pygments_lexer": "ipython3",
   "version": "3.12.1"
  }
 },
 "nbformat": 4,
 "nbformat_minor": 2
}
