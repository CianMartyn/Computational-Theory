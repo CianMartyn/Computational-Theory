{
 "cells": [
  {
   "cell_type": "markdown",
   "metadata": {},
   "source": [
    "Task 1: Binary Representations"
   ]
  },
  {
   "cell_type": "code",
   "execution_count": 9,
   "metadata": {},
   "outputs": [
    {
     "name": "stdout",
     "output_type": "stream",
     "text": [
      "rotl(10110011001100110011001100110011, 4)  -> 00110011001100110011001100111011\n",
      "rotr(10110011001100110011001100110011, 4)  -> 00111011001100110011001100110011\n",
      "ch(10110011001100110011001100110011, 11001100110011001100110011001100, 11110000111100001111000011110000) -> 11000000110000001100000011000000\n",
      "maj(10110011001100110011001100110011, 11001100110011001100110011001100, 11110000111100001111000011110000) -> 11110000111100001111000011110000\n"
     ]
    }
   ],
   "source": [
    "def rotl(x, n=1):\n",
    "    \"\"\"Rotates the bits in a 32-bit unsigned integer to the left by n places.\"\"\"\n",
    "    n = n % 32  # Ensure n is within 0-31\n",
    "    return ((x << n) | (x >> (32 - n))) & 0xFFFFFFFF  # Mask to 32 bits\n",
    "\n",
    "def rotr(x, n=1):\n",
    "    \"\"\"Rotates the bits in a 32-bit unsigned integer to the right by n places.\"\"\"\n",
    "    n = n % 32  # Ensure n is within 0-31\n",
    "    return ((x >> n) | (x << (32 - n))) & 0xFFFFFFFF  # Mask to 32 bits\n",
    "\n",
    "def ch(x, y, z):\n",
    "    \"\"\"Chooses bits from y where x has bits set to 1 and from z where x has bits set to 0.\"\"\"\n",
    "    return (x & y) ^ (~x & z)\n",
    "\n",
    "def maj(x, y, z):\n",
    "    \"\"\"Takes a majority vote of the bits in x, y, and z.\"\"\"\n",
    "    return (x & y) ^ (x & z) ^ (y & z)\n",
    "\n",
    "# Testing the functions\n",
    "if __name__ == \"__main__\":\n",
    "    test_x = 0b10110011001100110011001100110011  # 0xB3333333\n",
    "    test_y = 0b11001100110011001100110011001100  # 0xCCCCCCCC\n",
    "    test_z = 0b11110000111100001111000011110000  # 0xF0F0F0F0\n",
    "    \n",
    "    print(f\"rotl({test_x:032b}, 4)  -> {rotl(test_x, 4):032b}\")\n",
    "    print(f\"rotr({test_x:032b}, 4)  -> {rotr(test_x, 4):032b}\")\n",
    "    print(f\"ch({test_x:032b}, {test_y:032b}, {test_z:032b}) -> {ch(test_x, test_y, test_z):032b}\")\n",
    "    print(f\"maj({test_x:032b}, {test_y:032b}, {test_z:032b}) -> {maj(test_x, test_y, test_z):032b}\")\n"
   ]
  },
  {
   "cell_type": "markdown",
   "metadata": {},
   "source": [
    "Task 2: Hash Functions"
   ]
  },
  {
   "cell_type": "code",
   "execution_count": null,
   "metadata": {},
   "outputs": [
    {
     "name": "stdout",
     "output_type": "stream",
     "text": [
      "Hash of 'hello': 17\n",
      "\n",
      "Hash of 'world': 34\n",
      "\n",
      "Hash of 'hashing': 25\n",
      "\n",
      "Hash of 'kernighan': 37\n",
      "\n",
      "Hash of 'ritchie': 26\n",
      "\n"
     ]
    }
   ],
   "source": [
    "def hash_function(s: str) -> int:\n",
    "    hashval = 0\n",
    "    for char in s:\n",
    "        hashval = ord(char) + 31 * hashval\n",
    "    return hashval % 101\n",
    "\n",
    "# Testing the function\n",
    "test_strings = [\"hello\", \"world\", \"hashing\", \"kernighan\", \"ritchie\"]\n",
    "\n",
    "for s in test_strings:\n",
    "    print(f\"Hash of '{s}': {hash_function(s)}\")\n"
   ]
  },
  {
   "cell_type": "markdown",
   "metadata": {},
   "source": [
    "31 is commonly used in hash functions as it is a prime number, which helps distribute hash values more evenly.\n",
    "Multiplying by 31 ensures that small character changes produce significantly different hash values.\n",
    "It can be optimized in low-level implementations (e.g., 31 * x is equivalent to x << 5 - x, using bit shifts).\n",
    "\n",
    "101 is the modulus value:\n",
    "A prime number helps reduce hash collisions.\n",
    "It ensures the final hash value stays within a fixed range."
   ]
  }
 ],
 "metadata": {
  "kernelspec": {
   "display_name": "Python 3",
   "language": "python",
   "name": "python3"
  },
  "language_info": {
   "codemirror_mode": {
    "name": "ipython",
    "version": 3
   },
   "file_extension": ".py",
   "mimetype": "text/x-python",
   "name": "python",
   "nbconvert_exporter": "python",
   "pygments_lexer": "ipython3",
   "version": "3.12.1"
  }
 },
 "nbformat": 4,
 "nbformat_minor": 2
}
